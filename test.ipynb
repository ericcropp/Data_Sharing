{
 "cells": [
  {
   "cell_type": "code",
   "execution_count": 5,
   "id": "2abd231f",
   "metadata": {},
   "outputs": [],
   "source": [
    "\n",
    "fileloc = '/sdf/data/ad/ard-online/Measurements/FACET-II/Injector/Processed_Data/From_NERSC/2024-01-27/'\n",
    "import pandas as pd\n",
    "\n",
    "# Load some real data into memory\n",
    "all_data = pd.read_pickle(fileloc + \"total_data_stack_\" + '571' + '.pkl')"
   ]
  },
  {
   "cell_type": "code",
   "execution_count": 7,
   "id": "59c4deb9",
   "metadata": {},
   "outputs": [
    {
     "data": {
      "text/plain": [
       "['SOLN:IN10:121:BACT',\n",
       " 'SOLN:IN10:111:BACT',\n",
       " 'QUAD:IN10:121:BACT',\n",
       " 'QUAD:IN10:122:BACT',\n",
       " 'QUAD:IN10:361:BACT',\n",
       " 'QUAD:IN10:371:BACT',\n",
       " 'QUAD:IN10:425:BACT',\n",
       " 'QUAD:IN10:441:BACT',\n",
       " 'QUAD:IN10:511:BACT',\n",
       " 'QUAD:IN10:525:BACT',\n",
       " 'SOLN:IN10:121:BCTRL',\n",
       " 'SOLN:IN10:111:BCTRL',\n",
       " 'QUAD:IN10:121:BCTRL',\n",
       " 'QUAD:IN10:122:BCTRL',\n",
       " 'QUAD:IN10:361:BCTRL',\n",
       " 'QUAD:IN10:371:BCTRL',\n",
       " 'QUAD:IN10:425:BCTRL',\n",
       " 'QUAD:IN10:441:BCTRL',\n",
       " 'QUAD:IN10:511:BCTRL',\n",
       " 'QUAD:IN10:525:BCTRL',\n",
       " 'KLYS:LI10:21:PDES',\n",
       " 'KLYS:LI10:21:ADES',\n",
       " 'KLYS:LI10:21:AMPL',\n",
       " 'KLYS:LI10:21:PHAS',\n",
       " 'KLYS:LI10:21:SFB_PDIS',\n",
       " 'KLYS:LI10:31:PDES',\n",
       " 'KLYS:LI10:31:ADES',\n",
       " 'KLYS:LI10:31:AMPL',\n",
       " 'KLYS:LI10:31:PHAS',\n",
       " 'KLYS:LI10:41:PDES',\n",
       " 'KLYS:LI10:41:ADES',\n",
       " 'KLYS:LI10:41:AMPL',\n",
       " 'KLYS:LI10:41:PHAS',\n",
       " 'KLYS:LI10:51:PHAS',\n",
       " 'KLYS:LI10:51:AMPL ',\n",
       " 'LASR:LT10:930:PWR',\n",
       " 'BPMS:IN10:221:X',\n",
       " 'BPMS:IN10:371:X',\n",
       " 'BPMS:IN10:425:X',\n",
       " 'BPMS:IN10:511:X',\n",
       " 'BPMS:IN10:525:X',\n",
       " 'BPMS:IN10:581:X',\n",
       " 'BPMS:IN10:631:X',\n",
       " 'BPMS:IN10:651:X',\n",
       " 'BPMS:IN10:731:X',\n",
       " 'BPMS:IN10:771:X',\n",
       " 'BPMS:IN10:781:X',\n",
       " 'BPMS:IN10:221:Y',\n",
       " 'BPMS:IN10:371:Y',\n",
       " 'BPMS:IN10:425:Y',\n",
       " 'BPMS:IN10:511:Y',\n",
       " 'BPMS:IN10:525:Y',\n",
       " 'BPMS:IN10:581:Y',\n",
       " 'BPMS:IN10:631:Y',\n",
       " 'BPMS:IN10:651:Y',\n",
       " 'BPMS:IN10:731:Y',\n",
       " 'BPMS:IN10:771:Y',\n",
       " 'BPMS:IN10:781:Y',\n",
       " 'BPMS:IN10:221:TMIT',\n",
       " 'BPMS:IN10:371:TMIT',\n",
       " 'BPMS:IN10:425:TMIT',\n",
       " 'BPMS:IN10:511:TMIT',\n",
       " 'BPMS:IN10:525:TMIT',\n",
       " 'BPMS:IN10:581:TMIT',\n",
       " 'BPMS:IN10:631:TMIT',\n",
       " 'BPMS:IN10:651:TMIT',\n",
       " 'BPMS:IN10:731:TMIT',\n",
       " 'BPMS:IN10:771:TMIT',\n",
       " 'BPMS:IN10:781:TMIT',\n",
       " 'TORO:IN10:431:1:TMIT_P',\n",
       " 'TORO:IN10:591:1:TMIT_P',\n",
       " 'TORO:IN10:591:TMIT_PC',\n",
       " 'TORO:IN10:791:1:TMIT_P',\n",
       " 'TORO:IN10:791:TMIT_PC',\n",
       " 'TORO:IN10:791:0:TMIT_PC',\n",
       " 'CAMR:LT10:900:X',\n",
       " 'CAMR:LT10:900:Y',\n",
       " 'CAMR:LT10:900:Image:ArrayData',\n",
       " 'CAMR:LT10:900:XRMS',\n",
       " 'CAMR:LT10:900:YRMS',\n",
       " 'CAMR:LT10:900:Image:ArraySize1_RBV',\n",
       " 'CAMR:LT10:900:Image:ArraySize0_RBV',\n",
       " 'CAMR:LT10:900:RESOLUTION',\n",
       " 'PROF:IN10:241:Image:ArrayData',\n",
       " 'PROF:IN10:241:XRMS',\n",
       " 'PROF:IN10:241:YRMS',\n",
       " 'PROF:IN10:241:Image:ArraySize1_RBV',\n",
       " 'PROF:IN10:241:Image:ArraySize0_RBV',\n",
       " 'PROF:IN10:241:X',\n",
       " 'PROF:IN10:241:Y',\n",
       " 'PROF:IN10:241:RESOLUTION',\n",
       " 'PROF:IN10:571:Image:ArrayData',\n",
       " 'PROF:IN10:571:XRMS',\n",
       " 'PROF:IN10:571:YRMS',\n",
       " 'PROF:IN10:571:Image:ArraySize1_RBV',\n",
       " 'PROF:IN10:571:Image:ArraySize0_RBV',\n",
       " 'PROF:IN10:571:X',\n",
       " 'PROF:IN10:571:Y',\n",
       " 'PROF:IN10:571:RESOLUTION',\n",
       " 'PROF:IN10:711:Image:ArrayData',\n",
       " 'PROF:IN10:711:XRMS',\n",
       " 'PROF:IN10:711:YRMS',\n",
       " 'PROF:IN10:711:Image:ArraySize1_RBV',\n",
       " 'PROF:IN10:711:Image:ArraySize0_RBV',\n",
       " 'PROF:IN10:711:X',\n",
       " 'PROF:IN10:711:Y',\n",
       " 'PROF:IN10:711:RESOLUTION',\n",
       " 'timestamp',\n",
       " 'PMTR:HT10:950:PWR',\n",
       " 'IOC:SYS1:MP01:LSHUTCTL',\n",
       " 'KLYS:LI10:51:PDES',\n",
       " 'KLYS:LI10:51:AMPL',\n",
       " 'TCAV:IN20:490:TC0_C_1_TCTL',\n",
       " 'KLYS:LI20:51:BEAMCODE1_TCTL']"
      ]
     },
     "execution_count": 7,
     "metadata": {},
     "output_type": "execute_result"
    }
   ],
   "source": [
    "list(all_data.columns)"
   ]
  },
  {
   "cell_type": "code",
   "execution_count": 5,
   "id": "fa36ccd4",
   "metadata": {},
   "outputs": [
    {
     "data": {
      "text/plain": [
       "646"
      ]
     },
     "execution_count": 5,
     "metadata": {},
     "output_type": "execute_result"
    }
   ],
   "source": [
    "len(all_data)"
   ]
  },
  {
   "cell_type": "code",
   "execution_count": 4,
   "id": "8c8b4171",
   "metadata": {},
   "outputs": [
    {
     "data": {
      "text/plain": [
       "0     -2.746196\n",
       "1     -2.746196\n",
       "2     -2.746196\n",
       "3     -2.746196\n",
       "4     -2.746196\n",
       "         ...   \n",
       "641   -2.746196\n",
       "642   -2.746196\n",
       "643   -2.746196\n",
       "644   -2.746196\n",
       "645   -2.746196\n",
       "Name: CAMR:LT10:900:X, Length: 646, dtype: object"
      ]
     },
     "execution_count": 4,
     "metadata": {},
     "output_type": "execute_result"
    }
   ],
   "source": [
    "all_data['CAMR:LT10:900:X']"
   ]
  },
  {
   "cell_type": "code",
   "execution_count": 8,
   "id": "8d55615c",
   "metadata": {},
   "outputs": [],
   "source": [
    "import numpy as np\n",
    "from Data_Standard import DataPoint, SimulatedDataPoint\n",
    "\n",
    "fileloc = '/sdf/data/ad/ard-online/Measurements/FACET-II/Injector/Processed_Data/From_NERSC/2024-01-27/'\n",
    "import pandas as pd\n",
    "\n",
    "# Load some real data into memory\n",
    "all_data = pd.read_pickle(fileloc + \"total_data_stack_\" + '571' + '.pkl')\n",
    "\n",
    "cols = ['SOLN:IN10:121:BACT',\n",
    " 'SOLN:IN10:111:BACT',\n",
    " 'QUAD:IN10:121:BACT',\n",
    " 'QUAD:IN10:122:BACT',\n",
    " 'QUAD:IN10:361:BACT',\n",
    " 'QUAD:IN10:371:BACT',\n",
    " 'QUAD:IN10:425:BACT',\n",
    " 'QUAD:IN10:441:BACT',\n",
    " 'QUAD:IN10:511:BACT',\n",
    " 'QUAD:IN10:525:BACT',\n",
    " 'SOLN:IN10:121:BCTRL',\n",
    " 'SOLN:IN10:111:BCTRL',\n",
    " 'QUAD:IN10:121:BCTRL',\n",
    " 'QUAD:IN10:122:BCTRL',\n",
    " 'QUAD:IN10:361:BCTRL',\n",
    " 'QUAD:IN10:371:BCTRL',\n",
    " 'QUAD:IN10:425:BCTRL',\n",
    " 'QUAD:IN10:441:BCTRL',\n",
    " 'QUAD:IN10:511:BCTRL',\n",
    " 'QUAD:IN10:525:BCTRL',\n",
    " 'KLYS:LI10:21:PDES',\n",
    " 'KLYS:LI10:21:ADES',\n",
    " 'KLYS:LI10:21:AMPL',\n",
    " 'KLYS:LI10:21:PHAS',\n",
    " 'KLYS:LI10:21:SFB_PDIS',\n",
    " 'KLYS:LI10:31:PDES',\n",
    " 'KLYS:LI10:31:ADES',\n",
    " 'KLYS:LI10:31:AMPL',\n",
    " 'KLYS:LI10:31:PHAS',\n",
    " 'KLYS:LI10:41:PDES',\n",
    " 'KLYS:LI10:41:ADES',\n",
    " 'KLYS:LI10:41:AMPL',\n",
    " 'KLYS:LI10:41:PHAS',\n",
    " 'KLYS:LI10:51:PHAS',\n",
    " 'KLYS:LI10:51:AMPL',\n",
    " 'LASR:LT10:930:PWR']\n",
    "# Try to format it as a DataPoint\n",
    "scalar_inputs = all_data[cols].iloc[0]\n",
    "lattice_location = 'https://github.com/slaclab/facet2-lattice'\n",
    "summary_keys = [ 'PROF:IN10:571:XRMS',\n",
    " 'PROF:IN10:571:YRMS']\n",
    "\n",
    "VCC = np.load(fileloc + 'VCC_stack_571.npy')\n",
    "VCC = VCC[0,:,:]\n",
    "\n",
    "metadata = {'source':'FACET-II Injector','date':'2024-01-27','notes':'Processed data from NERSC'}\n",
    "# Save as H5 file\n",
    "\n",
    "\n",
    "D = DataPoint(scalar_inputs=scalar_inputs, input_distribution=VCC, lattice_location=lattice_location, summary_keys=summary_keys, metadata=metadata)\n",
    "all_images = np.load(fileloc + 'total_images_stack_571.npy')\n",
    "D.add_data(location='PROF:IN10:571', datum=all_data['PROF:IN10:571:XRMS'].iloc[0], datum_type='float')\n",
    "D.add_data(location='PROF:IN10:571', datum=all_images[0,:,:], datum_type='image')\n",
    "\n",
    "D.saveHDF5('Test_DataPoint.h5')"
   ]
  },
  {
   "cell_type": "code",
   "execution_count": 9,
   "id": "22f62a58",
   "metadata": {},
   "outputs": [
    {
     "data": {
      "text/plain": [
       "DataPoint(scalar_inputs={'SOLN:IN10:121:BACT': 0.39999870054911324, 'SOLN:IN10:111:BACT': 8.86709389154139e-06, 'QUAD:IN10:121:BACT': -0.00929523017209573, 'QUAD:IN10:122:BACT': 0.009499554054095917, 'QUAD:IN10:361:BACT': -3.222818061562654, 'QUAD:IN10:371:BACT': 3.0499170045426234, 'QUAD:IN10:425:BACT': -6.438904822877484, 'QUAD:IN10:441:BACT': 6.713666484998864, 'QUAD:IN10:511:BACT': -2.6095085909660836, 'QUAD:IN10:525:BACT': 1.6800802522042686, 'SOLN:IN10:121:BCTRL': 0.3999996, 'SOLN:IN10:111:BCTRL': 0.0, 'QUAD:IN10:121:BCTRL': -0.0093, 'QUAD:IN10:122:BCTRL': 0.0095, 'QUAD:IN10:361:BCTRL': -3.2239333, 'QUAD:IN10:371:BCTRL': 3.0500691, 'QUAD:IN10:425:BCTRL': -6.441248, 'QUAD:IN10:441:BCTRL': 6.7129514, 'QUAD:IN10:511:BCTRL': -2.6116024, 'QUAD:IN10:525:BCTRL': 1.6786837, 'KLYS:LI10:21:PDES': 84.0, 'KLYS:LI10:21:ADES': 38.0, 'KLYS:LI10:21:AMPL': 38.38031768798828, 'KLYS:LI10:21:PHAS': 91.08893273366412, 'KLYS:LI10:21:SFB_PDIS': 1.0, 'KLYS:LI10:31:PDES': 25.094, 'KLYS:LI10:31:ADES': 39.0, 'KLYS:LI10:31:AMPL': 39.22922134399414, 'KLYS:LI10:31:PHAS': 25.633918521111294, 'KLYS:LI10:41:PDES': 125.5, 'KLYS:LI10:41:ADES': 69.0, 'KLYS:LI10:41:AMPL': 68.63916015625, 'KLYS:LI10:41:PHAS': 133.4695361760069, 'KLYS:LI10:51:PHAS': -58.404906611644016, 'KLYS:LI10:51:AMPL': 0.030013609677553177, 'LASR:LT10:930:PWR': 33.13465576171875}, input_distribution=array([[-0.,  0.,  0., ...,  0., -0.,  0.],\n",
       "       [-0., -0., -0., ..., -0.,  0.,  0.],\n",
       "       [-0., -0., -0., ..., -0.,  0., -0.],\n",
       "       ...,\n",
       "       [-0.,  0., -0., ..., -0., -0.,  0.],\n",
       "       [-0., -0.,  0., ...,  0., -0., -0.],\n",
       "       [ 0., -0., -0., ...,  0.,  0.,  0.]], shape=(800, 800)), lattice_location='https://github.com/slaclab/facet2-lattice', output_list=[{'location': 'PROF:IN10:571', 'datum_type': 'float', 'ID': 0}, {'location': 'PROF:IN10:571', 'datum_type': 'image', 'ID': 1}], summary_keys=['PROF:IN10:571:XRMS', 'PROF:IN10:571:YRMS'], ID='9498144f3597fbae5aa0a29710e5431c', metadata={'source': 'FACET-II Injector', 'date': '2024-01-27', 'notes': 'Processed data from NERSC'}, outputs={0: 438.2995267365572, 1: array([[16.,  2.,  9., ..., 23., 32., 10.],\n",
       "       [ 0., 12.,  6., ..., 12., 15., 10.],\n",
       "       [ 2., 14.,  1., ..., 17., 15.,  0.],\n",
       "       ...,\n",
       "       [17., 11., 13., ..., 12., 29., 10.],\n",
       "       [ 5., 17.,  5., ..., 16., 13.,  4.],\n",
       "       [ 0., 17.,  0., ..., 23., 13., 25.]], shape=(500, 500))}, summary={})"
      ]
     },
     "execution_count": 9,
     "metadata": {},
     "output_type": "execute_result"
    }
   ],
   "source": [
    "D"
   ]
  },
  {
   "cell_type": "code",
   "execution_count": 11,
   "id": "7828ac7d",
   "metadata": {},
   "outputs": [
    {
     "data": {
      "text/plain": [
       "{0: 438.2995267365572,\n",
       " 1: array([[16.,  2.,  9., ..., 23., 32., 10.],\n",
       "        [ 0., 12.,  6., ..., 12., 15., 10.],\n",
       "        [ 2., 14.,  1., ..., 17., 15.,  0.],\n",
       "        ...,\n",
       "        [17., 11., 13., ..., 12., 29., 10.],\n",
       "        [ 5., 17.,  5., ..., 16., 13.,  4.],\n",
       "        [ 0., 17.,  0., ..., 23., 13., 25.]], shape=(500, 500))}"
      ]
     },
     "execution_count": 11,
     "metadata": {},
     "output_type": "execute_result"
    }
   ],
   "source": [
    "D.outputs"
   ]
  },
  {
   "cell_type": "code",
   "execution_count": 1,
   "id": "f54521cf",
   "metadata": {},
   "outputs": [],
   "source": [
    "import numpy as np\n",
    "from Data_Standard import DataPoint, SimulatedDataPoint\n",
    "\n",
    "fileloc = '/sdf/data/ad/ard-online/Measurements/FACET-II/Injector/Processed_Data/From_NERSC/2024-01-27/'\n",
    "import pandas as pd\n",
    "\n",
    "# Load some real data into memory\n",
    "all_data = pd.read_pickle(fileloc + \"total_data_stack_\" + '571' + '.pkl')\n",
    "\n",
    "cols = ['SOLN:IN10:121:BACT',\n",
    " 'SOLN:IN10:111:BACT',\n",
    " 'QUAD:IN10:121:BACT',\n",
    " 'QUAD:IN10:122:BACT',\n",
    " 'QUAD:IN10:361:BACT',\n",
    " 'QUAD:IN10:371:BACT',\n",
    " 'QUAD:IN10:425:BACT',\n",
    " 'QUAD:IN10:441:BACT',\n",
    " 'QUAD:IN10:511:BACT',\n",
    " 'QUAD:IN10:525:BACT',\n",
    " 'SOLN:IN10:121:BCTRL',\n",
    " 'SOLN:IN10:111:BCTRL',\n",
    " 'QUAD:IN10:121:BCTRL',\n",
    " 'QUAD:IN10:122:BCTRL',\n",
    " 'QUAD:IN10:361:BCTRL',\n",
    " 'QUAD:IN10:371:BCTRL',\n",
    " 'QUAD:IN10:425:BCTRL',\n",
    " 'QUAD:IN10:441:BCTRL',\n",
    " 'QUAD:IN10:511:BCTRL',\n",
    " 'QUAD:IN10:525:BCTRL',\n",
    " 'KLYS:LI10:21:PDES',\n",
    " 'KLYS:LI10:21:ADES',\n",
    " 'KLYS:LI10:21:AMPL',\n",
    " 'KLYS:LI10:21:PHAS',\n",
    " 'KLYS:LI10:21:SFB_PDIS',\n",
    " 'KLYS:LI10:31:PDES',\n",
    " 'KLYS:LI10:31:ADES',\n",
    " 'KLYS:LI10:31:AMPL',\n",
    " 'KLYS:LI10:31:PHAS',\n",
    " 'KLYS:LI10:41:PDES',\n",
    " 'KLYS:LI10:41:ADES',\n",
    " 'KLYS:LI10:41:AMPL',\n",
    " 'KLYS:LI10:41:PHAS',\n",
    " 'KLYS:LI10:51:PHAS',\n",
    " 'KLYS:LI10:51:AMPL',\n",
    " 'LASR:LT10:930:PWR']\n",
    "# Try to format it as a DataPoint\n",
    "scalar_inputs = all_data[cols].iloc[0]\n",
    "lattice_location = 'https://github.com/slaclab/facet2-lattice'\n",
    "summary_keys = [ 'PROF:IN10:571:XRMS',\n",
    " 'PROF:IN10:571:YRMS']\n",
    "\n",
    "VCC = np.load(fileloc + 'VCC_stack_571.npy')\n",
    "VCC = VCC[0,:,:]\n",
    "\n",
    "metadata = {'source':'FACET-II Injector','date':'2024-01-27','notes':'Processed data from NERSC'}\n",
    "# Save as H5 file\n",
    "\n",
    "all_images = np.load(fileloc + 'total_images_stack_571.npy')\n",
    "\n"
   ]
  },
  {
   "cell_type": "code",
   "execution_count": 2,
   "id": "ec9de62b",
   "metadata": {},
   "outputs": [],
   "source": [
    "import os\n",
    "\n",
    "filename = \"9498144f3597fbae5aa0a29710e5431c.h5\"\n",
    "if os.path.exists(filename):\n",
    "    os.remove(filename)"
   ]
  },
  {
   "cell_type": "code",
   "execution_count": 3,
   "id": "1b512579",
   "metadata": {},
   "outputs": [
    {
     "ename": "AttributeError",
     "evalue": "'float' object has no attribute 'keys'",
     "output_type": "error",
     "traceback": [
      "\u001b[31m---------------------------------------------------------------------------\u001b[39m",
      "\u001b[31mAttributeError\u001b[39m                            Traceback (most recent call last)",
      "\u001b[36mCell\u001b[39m\u001b[36m \u001b[39m\u001b[32mIn[3]\u001b[39m\u001b[32m, line 5\u001b[39m\n\u001b[32m      2\u001b[39m get_ipython().run_line_magic(\u001b[33m'\u001b[39m\u001b[33mautoreload\u001b[39m\u001b[33m'\u001b[39m, \u001b[33m'\u001b[39m\u001b[33m'\u001b[39m)\n\u001b[32m      3\u001b[39m D = DataPoint(scalar_inputs=scalar_inputs, input_distribution=VCC, lattice_location=lattice_location, summary_keys=summary_keys, run_information=metadata)\n\u001b[32m----> \u001b[39m\u001b[32m5\u001b[39m \u001b[43mD\u001b[49m\u001b[43m.\u001b[49m\u001b[43madd_data\u001b[49m\u001b[43m(\u001b[49m\u001b[43mlocation\u001b[49m\u001b[43m=\u001b[49m\u001b[33;43m'\u001b[39;49m\u001b[33;43mPROF:IN10:571\u001b[39;49m\u001b[33;43m'\u001b[39;49m\u001b[43m,\u001b[49m\u001b[43m \u001b[49m\u001b[43mdatum\u001b[49m\u001b[43m=\u001b[49m\u001b[43mall_data\u001b[49m\u001b[43m[\u001b[49m\u001b[33;43m'\u001b[39;49m\u001b[33;43mPROF:IN10:571:XRMS\u001b[39;49m\u001b[33;43m'\u001b[39;49m\u001b[43m]\u001b[49m\u001b[43m.\u001b[49m\u001b[43miloc\u001b[49m\u001b[43m[\u001b[49m\u001b[32;43m0\u001b[39;49m\u001b[43m]\u001b[49m\u001b[43m,\u001b[49m\u001b[43mattrs\u001b[49m\u001b[43m=\u001b[49m\u001b[43m{\u001b[49m\u001b[43m}\u001b[49m\u001b[43m,\u001b[49m\u001b[43mdatum_name\u001b[49m\u001b[43m=\u001b[49m\u001b[33;43m'\u001b[39;49m\u001b[33;43mPROF:IN10:571:XRMS\u001b[39;49m\u001b[33;43m'\u001b[39;49m\u001b[43m,\u001b[49m\u001b[43m \u001b[49m\u001b[43mdatum_type\u001b[49m\u001b[43m=\u001b[49m\u001b[33;43m'\u001b[39;49m\u001b[33;43mscalar\u001b[39;49m\u001b[33;43m'\u001b[39;49m\u001b[43m)\u001b[49m\n\u001b[32m      6\u001b[39m D.add_data(location=\u001b[33m'\u001b[39m\u001b[33mPROF:IN10:571\u001b[39m\u001b[33m'\u001b[39m, datum=all_images[\u001b[32m0\u001b[39m,:,:], attrs={\u001b[33m'\u001b[39m\u001b[33mpixel_calibration\u001b[39m\u001b[33m'\u001b[39m:all_data[\u001b[33m'\u001b[39m\u001b[33mPROF:IN10:571:RESOLUTION\u001b[39m\u001b[33m'\u001b[39m].iloc[\u001b[32m0\u001b[39m]}, datum_type=\u001b[33m'\u001b[39m\u001b[33mimage\u001b[39m\u001b[33m'\u001b[39m)\n\u001b[32m      8\u001b[39m D.saveHDF5()\n",
      "\u001b[36mFile \u001b[39m\u001b[32m~/Data_Standard/Data_Standard.py:65\u001b[39m, in \u001b[36mDataPoint.add_data\u001b[39m\u001b[34m(self, location, datum, attrs, datum_type, datum_name)\u001b[39m\n\u001b[32m     63\u001b[39m \u001b[38;5;66;03m# self.outputs[datum_ID] = datum\u001b[39;00m\n\u001b[32m     64\u001b[39m \u001b[38;5;28;01mif\u001b[39;00m datum_type == \u001b[33m'\u001b[39m\u001b[33mscalar\u001b[39m\u001b[33m'\u001b[39m:\n\u001b[32m---> \u001b[39m\u001b[32m65\u001b[39m     \u001b[38;5;28mself\u001b[39m.scalar_output_list.extend(\u001b[38;5;28mlist\u001b[39m(\u001b[43mdatum\u001b[49m\u001b[43m.\u001b[49m\u001b[43mkeys\u001b[49m()))\n\u001b[32m     67\u001b[39m \u001b[38;5;28;01mif\u001b[39;00m datum_type == \u001b[33m'\u001b[39m\u001b[33mimage\u001b[39m\u001b[33m'\u001b[39m:\n\u001b[32m     68\u001b[39m     \u001b[38;5;28;01massert\u001b[39;00m \u001b[33m'\u001b[39m\u001b[33mpixel_calibration\u001b[39m\u001b[33m'\u001b[39m \u001b[38;5;129;01min\u001b[39;00m datum.keys()\n",
      "\u001b[31mAttributeError\u001b[39m: 'float' object has no attribute 'keys'"
     ]
    }
   ],
   "source": [
    "%load_ext autoreload\n",
    "%autoreload\n",
    "D = DataPoint(scalar_inputs=scalar_inputs, input_distribution=VCC, lattice_location=lattice_location, summary_keys=summary_keys, run_information=metadata)\n",
    "\n",
    "D.add_data(location='PROF:IN10:571', datum=all_data['PROF:IN10:571:XRMS'].iloc[0],attrs={},datum_name='PROF:IN10:571:XRMS', datum_type='scalar')\n",
    "D.add_data(location='PROF:IN10:571', datum=all_images[0,:,:], attrs={'pixel_calibration':all_data['PROF:IN10:571:RESOLUTION'].iloc[0]}, datum_type='image')\n",
    "\n",
    "D.saveHDF5()"
   ]
  },
  {
   "cell_type": "code",
   "execution_count": null,
   "id": "37f1a388",
   "metadata": {},
   "outputs": [],
   "source": []
  }
 ],
 "metadata": {
  "kernelspec": {
   "display_name": "Data_Standards",
   "language": "python",
   "name": "python3"
  },
  "language_info": {
   "codemirror_mode": {
    "name": "ipython",
    "version": 3
   },
   "file_extension": ".py",
   "mimetype": "text/x-python",
   "name": "python",
   "nbconvert_exporter": "python",
   "pygments_lexer": "ipython3",
   "version": "3.13.7"
  }
 },
 "nbformat": 4,
 "nbformat_minor": 5
}
